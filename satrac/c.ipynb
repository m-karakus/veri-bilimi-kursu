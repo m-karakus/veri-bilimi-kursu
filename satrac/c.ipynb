{
 "cells": [
  {
   "cell_type": "code",
   "execution_count": 18,
   "metadata": {},
   "outputs": [],
   "source": [
    "import numpy as np"
   ]
  },
  {
   "cell_type": "code",
   "execution_count": 19,
   "metadata": {},
   "outputs": [],
   "source": [
    "board_size = 10\n",
    "max_moves = 15\n",
    "previous_position = 0\n",
    "cell_position = previous_position\n",
    "y = 0\n",
    "u = 0"
   ]
  },
  {
   "cell_type": "code",
   "execution_count": 20,
   "metadata": {},
   "outputs": [],
   "source": [
    "def render_board():\n",
    "    unicode_pieces = {\n",
    "        1: \"\\u2659\",  # Pawn\n",
    "        2: \"\\u2656\",  # Rook\n",
    "        3: \"\\u2658\",  # Knight\n",
    "        4: \"\\u2657\",  # Bishop\n",
    "        5: \"\\u2655\",  # Queen\n",
    "        6: \"\\u2654\",  # King\n",
    "        9: \"\\u265F\",  # Opponent's Pawn\n",
    "        10: \"\\u265C\",  # Opponent's Rook\n",
    "        11: \"\\u265E\",  # Opponent's Knight\n",
    "        12: \"\\u265D\",  # Opponent's Bishop\n",
    "        13: \"\\u265B\",  # Opponent's Queen\n",
    "        14: \"\\u265A\",  # Opponent's King\n",
    "        0: \" \"         # Empty square\n",
    "    }\n",
    "\n",
    "    print(\"+\" + \"---+\" * 8)\n",
    "    for row in range(2, 10):\n",
    "        for col in range(1, 9):\n",
    "            piece = board_state[row * board_size + col]\n",
    "            symbol =  unicode_pieces.get(piece & 15, \" \") \n",
    "            print(f\"| {symbol} \", end=\"\")\n",
    "        print(\"|\")\n",
    "        print(\"+\" + \"---+\" * 8)\n"
   ]
  },
  {
   "cell_type": "code",
   "execution_count": 46,
   "metadata": {},
   "outputs": [],
   "source": [
    "board_state = np.array([\n",
    "    7, 7, 7, 7, 7, 7, 7, 7, 7, 7,\n",
    "    7, 7, 7, 7, 7, 7, 7, 7, 7, 7,\n",
    "    7, 53, 51, 52, 54, 50, 52, 51, 53, 7,\n",
    "    7, 49, 49, 49, 49, 49, 49, 49, 49, 7,\n",
    "    7, 0, 0, 0, 0, 0, 0, 0, 0, 7,\n",
    "    7, 0, 0, 0, 0, 0, 0, 0, 0, 7,\n",
    "    7, 0, 0, 0, 0, 0, 0, 0, 0, 7,\n",
    "    7, 0, 0, 0, 0, 0, 0, 0, 0, 7,\n",
    "    7, 57, 57, 57, 57, 57, 57, 57, 57, 7,\n",
    "    7, 61, 59, 60, 62, 58, 60, 59, 61, 7,\n",
    "    7, 7, 7, 7, 7, 7, 7, 7, 7, 7,\n",
    "    7, 7, 7, 7, 7, 7, 7, 7, 7, 7\n",
    "])"
   ]
  },
  {
   "cell_type": "code",
   "execution_count": 47,
   "metadata": {},
   "outputs": [
    {
     "name": "stdout",
     "output_type": "stream",
     "text": [
      "  7   7   7   7   7   7   7   7   7   7 \n",
      "  7   7   7   7   7   7   7   7   7   7 \n",
      "  7  53  51  52  54  50  52  51  53   7 \n",
      "  7  49  49  49  49  49  49  49  49   7 \n",
      "  7   0   0   0   0   0   0   0   0   7 \n",
      "  7   0   0   0   0   0   0   0   0   7 \n",
      "  7   0   0   0   0   0   0   0   0   7 \n",
      "  7   0   0   0   0   0   0   0   0   7 \n",
      "  7  57  57  57  57 [57]  57  57  57   7 \n",
      "  7  61  59  60  62  58  60  59  61   7 \n",
      "  7   7   7   7   7   7   7   7   7   7 \n",
      "  7   7   7   7   7   7   7   7   7   7 \n"
     ]
    }
   ],
   "source": [
    "def print_board_with_highlight(board_state, index):    \n",
    "    board_state_np = board_state.reshape((12, 10))\n",
    "    highlight_coords = divmod(index, board_state_np.shape[1])  # Convert to (row, col)\n",
    "    rows, cols = board_state_np.shape\n",
    "    for row in range(rows):\n",
    "        for col in range(cols):\n",
    "            if (row, col) == highlight_coords:\n",
    "                # Highlight the specific position\n",
    "                print(f\"[{board_state_np[row, col]:>2}]\", end=\" \")\n",
    "            else:\n",
    "                # Normal printing for other cells\n",
    "                print(f\"{board_state_np[row, col]:>3}\", end=\" \")\n",
    "        print()  # Newline after each row\n",
    "\n",
    "# Example usage\n",
    "index = 85  # Example index in board_state\n",
    "print_board_with_highlight(board_state, 85)\n"
   ]
  },
  {
   "cell_type": "code",
   "execution_count": 61,
   "metadata": {},
   "outputs": [
    {
     "data": {
      "text/plain": [
       "(12, 10)"
      ]
     },
     "execution_count": 61,
     "metadata": {},
     "output_type": "execute_result"
    }
   ],
   "source": [
    "index = 81\n",
    "board_state_np.shape  # Shape of the 2D array"
   ]
  },
  {
   "cell_type": "code",
   "execution_count": 67,
   "metadata": {},
   "outputs": [
    {
     "name": "stdout",
     "output_type": "stream",
     "text": [
      "  7   7   7   7   7   7   7   7   7   7 \n",
      "  7   7   7   7   7   7   7   7   7   7 \n",
      "  7  53  51  52  54  50  52  51  53   7 \n",
      "  7  49  49  49  49  49  49  49  49   7 \n",
      "  7   0   0   0   0   0   0   0   0   7 \n",
      "  7   0   0   0   0   0   0   0   0   7 \n",
      "  7   0   0   0   0   0   0   0   0   7 \n",
      "  7   0   0   0   0   0   0   0   0   7 \n",
      "  7  57  57  57 [57]  57  57  57  57   7 \n",
      "  7  61  59  60  62  58  60  59  61   7 \n",
      "  7   7   7   7   7   7   7   7   7   7 \n",
      "  7   7   7   7   7   7   7   7   7   7 \n"
     ]
    }
   ],
   "source": [
    "index = 84  # Example index in board_state\n",
    "print_board_with_highlight(board_state, index)"
   ]
  },
  {
   "cell_type": "code",
   "execution_count": 60,
   "metadata": {},
   "outputs": [
    {
     "data": {
      "text/plain": [
       "5"
      ]
     },
     "execution_count": 60,
     "metadata": {},
     "output_type": "execute_result"
    }
   ],
   "source": [
    "53 & 15 ^ 0"
   ]
  },
  {
   "cell_type": "code",
   "execution_count": null,
   "metadata": {},
   "outputs": [],
   "source": [
    "piece_type = current_piece & max_moves ^ player_color"
   ]
  },
  {
   "cell_type": "code",
   "execution_count": null,
   "metadata": {},
   "outputs": [],
   "source": []
  },
  {
   "cell_type": "code",
   "execution_count": null,
   "metadata": {},
   "outputs": [],
   "source": []
  },
  {
   "cell_type": "code",
   "execution_count": 34,
   "metadata": {},
   "outputs": [],
   "source": [
    "piece_codes = [\n",
    "    53, 51, 52, 54, 50, 52, 51, 53,\n",
    "    49, 49, 49, 49, 49, 49, 49, 49,\n",
    "    57, 57, 57, 57, 57, 57, 57, 57,\n",
    "    61, 59, 60, 62, 58, 60, 59, 61,\n",
    "    0, 7, 0, 20, 19, 34, 62, -1, 1,\n",
    "    -10, 10, -11, -9, 9, 11, 10, 20,\n",
    "    -11, -9, -10, -20, -21, -19, -12,\n",
    "    -8, 8, 12, 19, 21, 45, 39, 53, 43,\n",
    "    39, 39, -32, 15, 10, 14, 13, 12, 11,\n",
    "    -32, -32, 9, 4, 8, 7, 6, 5\n",
    "]\n",
    "\n",
    "board_size = 10\n",
    "max_moves = 15\n",
    "previous_position = 0\n",
    "cell_position = previous_position\n"
   ]
  },
  {
   "cell_type": "code",
   "execution_count": null,
   "metadata": {},
   "outputs": [],
   "source": [
    "def calculate_move(player_color, depth, last_position, max_depth, evaluation):\n",
    "    board_index = 20\n",
    "    max_score = -1e8\n",
    "    forced_move = max_depth and calculate_move(player_color, 0, None, None, None) > 1e4\n",
    "    player_color ^= 8\n",
    "    evaluation_constant = (78 - depth) << 9\n",
    "    move_direction = board_size if player_color else -board_size\n",
    "\n",
    "    while board_index + 1 < 99:\n",
    "        board_index += 1\n",
    "        \n",
    "        current_position = board_index\n",
    "        current_piece = board_state[current_position]\n",
    "        piece_type = current_piece & max_moves ^ player_color\n",
    "        if current_piece and piece_type < 7:\n",
    "\n",
    "            move_type = 8 if (piece_type & 2) else 4\n",
    "            piece_type -= 1  # pieceType'ı bir azaltıyoruz\n",
    "            piece_code = piece_codes[61 + piece_type] if (9 - current_piece & max_moves) else 49\n",
    "\n",
    "            while True:\n",
    "                current_position += piece_codes[piece_code]\n",
    "                target_piece = board_state[current_position]\n",
    "                move_adjustment = target_position = 0 if (piece_type | (current_position + move_direction - last_position)) else last_position\n",
    "\n",
    "                if (\n",
    "                    not target_piece and (piece_type or move_type < 3 or move_adjustment) or \n",
    "                    (1 + target_piece & max_moves ^ player_color) > 9 and piece_type | move_type > 2\n",
    "                ):\n",
    "\n",
    "                    if not (2 - (target_piece & 7)): \n",
    "                        return evaluation_constant\n",
    "\n",
    "                    # Başlangıç kısmı for loop\n",
    "                    next_move = valid_moves = (piece_type | board_state[current_position - move_direction] - 7) and (current_piece & max_moves) or (6 ^ player_color)\n",
    "\n",
    "                    # Döngü\n",
    "                    while next_move:\n",
    "                        # moveAdjustment ve targetPosition hesaplamaları\n",
    "                        move_adjustment = current_position\n",
    "                        if current_position < board_index:\n",
    "                            target_position = move_adjustment - 3\n",
    "                        else:\n",
    "                            target_position = move_adjustment + 2\n",
    "\n",
    "                        # Koşul kısmı\n",
    "                        if not next_move and not forced_move:\n",
    "                            if not (board_state[target_position] < max_moves or\n",
    "                                    board_state[target_position + board_index - current_position] or\n",
    "                                    board_state[current_position] + (current_position - board_index)):\n",
    "                                break\n",
    "                        \n",
    "                        # Iterasyon kısmı\n",
    "                        next_move = not next_move and not forced_move and not (\n",
    "                            move_adjustment := current_position, \n",
    "                            target_position := current_position < board_index and move_adjustment - 3 or move_adjustment + 2, \n",
    "                            board_state[target_position] < max_moves or \n",
    "                            board_state[target_position + board_index - current_position] or\n",
    "                            board_state[current_position] + current_position - board_index\n",
    "                        )\n",
    "\n",
    "                        if target_piece:\n",
    "                            move_score_part1 = piece_codes[(target_piece & 7) | 32] * 2 - depth - piece_type\n",
    "                        else:\n",
    "                            move_score_part1 = 0\n",
    "\n",
    "                        if piece_type:\n",
    "                            move_score_part2 = 0\n",
    "                        else:\n",
    "                            if valid_moves - current_piece & max_moves:\n",
    "                                move_score_part2 = 110\n",
    "                            else:\n",
    "                                move_score_part2 = (14 if target_position else 0) + (1 if move_type < 2 else 0) + 1\n",
    "\n",
    "                        move_score = move_score_part1 + move_score_part2\n",
    "\n",
    "                        if max_depth > depth or (1 < max_depth and max_depth == depth and move_score > 2) or forced_move:\n",
    "                            board_state[current_position] = valid_moves\n",
    "                            board_state[move_adjustment] = board_state[target_position]\n",
    "                            board_state[board_index] = 0 if target_position else 0\n",
    "\n",
    "                            next_move = 0 if move_type > 1 else current_position\n",
    "                            move_score -= calculate_move(player_color, depth + 1, next_move, max_depth, move_score - max_score)\n",
    "\n",
    "                            if not (depth or (max_depth - 1) or (cell_position - board_index) or \n",
    "                                    (current_position - previous_position) or (move_score < -1e4)):\n",
    "                                render_board(y=next_move)\n",
    "                                if player_color:\n",
    "                                    # Bu satırda setTimeout yerine time.sleep kullanılabilir\n",
    "                                    import time\n",
    "                                    time.sleep(0.075)  # 75 ms bekleme\n",
    "                                    calculate_move(8, 0, next_move, 2)\n",
    "                                    calculate_move(8, 0, next_move, 1)\n",
    "\n",
    "                            next_move = 1 - piece_type | (move_type < 7) | target_position or not max_depth or target_piece or current_piece < max_moves or calculate_move(player_color, 0) > 1e4\n",
    "                            board_state[board_index] = current_piece\n",
    "                            board_state[current_position] = target_piece\n",
    "                            board_state[target_position] = board_state[move_adjustment]\n",
    "                            if target_position:\n",
    "                                board_state[move_adjustment] = 0 if piece_type else (9 ^ player_color)\n",
    "                            else:\n",
    "                                board_state[move_adjustment] = 0\n",
    "\n",
    "                        import random\n",
    "\n",
    "                        if move_score > max_score or (not depth and move_score == max_score and random.random() < 0.5):\n",
    "                            if max_score == move_score and max_depth > 1:\n",
    "                                if depth:\n",
    "                                    if evaluation - move_score < 0:\n",
    "                                        return max_score\n",
    "                                else:\n",
    "                                    cell_position = board_index\n",
    "                                    previous_position = current_position\n",
    "                                    return max_score\n",
    "\n",
    "                        # Koşul sağlanmazsa döngüden çık\n",
    "                        if not target_piece and piece_type > 2 or (\n",
    "                            current_position == board_index and (piece_type | move_type > 2) or\n",
    "                            (max_moves < current_piece and not target_piece and piece_code + 1 * (move_type - 1))\n",
    "                        ):\n",
    "                            break\n",
    "    return -evaluation_constant + 768 < max_score or (forced_move and max_score)\n"
   ]
  },
  {
   "cell_type": "code",
   "execution_count": null,
   "metadata": {},
   "outputs": [],
   "source": []
  }
 ],
 "metadata": {
  "kernelspec": {
   "display_name": "dev",
   "language": "python",
   "name": "python3"
  },
  "language_info": {
   "codemirror_mode": {
    "name": "ipython",
    "version": 3
   },
   "file_extension": ".py",
   "mimetype": "text/x-python",
   "name": "python",
   "nbconvert_exporter": "python",
   "pygments_lexer": "ipython3",
   "version": "3.11.5"
  }
 },
 "nbformat": 4,
 "nbformat_minor": 2
}
